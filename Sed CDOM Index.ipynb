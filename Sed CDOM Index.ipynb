{
 "cells": [
  {
   "cell_type": "code",
   "execution_count": 1,
   "id": "749031c6-6aa9-43fa-b1f6-5b57f1aba9fe",
   "metadata": {},
   "outputs": [],
   "source": [
    "## IMPORTS\n",
    "\n",
    "from satpy import Scene, find_files_and_readers\n",
    "from pyresample import geometry, create_area_def\n",
    "from satpy.writers import get_enhanced_image\n",
    "from datetime import datetime\n",
    "import math\n",
    "import matplotlib.pyplot as plt\n",
    "import numpy as np\n",
    "import xarray as xr\n",
    "from glob import glob\n",
    "import cartopy.crs as ccrs\n",
    "import cartopy.feature as cfeature\n",
    "from cartopy.mpl.gridliner import LONGITUDE_FORMATTER, LATITUDE_FORMATTER\n",
    "from satpy import MultiScene\n",
    "from satpy.multiscene import timeseries\n",
    "%matplotlib inline\n",
    "from matplotlib_scalebar.scalebar import ScaleBar\n",
    "import cmocean\n",
    "import cmocean.cm as cmo\n",
    "import netCDF4\n",
    "import pandas as pd\n",
    "from copy import deepcopy"
   ]
  },
  {
   "cell_type": "code",
   "execution_count": 20,
   "id": "db5fd728-04ca-4f5d-bf23-4d8a7cad6d82",
   "metadata": {},
   "outputs": [],
   "source": [
    "## Definitions of Useful Functions\n",
    "\n",
    "# convert celcius to fahrenheit\n",
    "def fahrenheit(x):\n",
    "    fahrenheit = (x*9/5) + 32\n",
    "    return fahrenheit\n",
    "\n",
    "# convert fahrenheit to celcius\n",
    "def celcius(x):\n",
    "    celcius = (x - 32) * 5/9\n",
    "    return celcius\n",
    "\n",
    "# invert sst values \n",
    "def sstinvert(x,type = 'num'):\n",
    "    if type == 'list':\n",
    "        pass  #Future implemented feature, for inverting everything in the list  \n",
    "    elif type == 'num':\n",
    "        x = -1 * (x/255) # Divide by 225 in order to put on a 0-1 scale, and then multiply by negative one, to start inverting\n",
    "        x += 1 # Invert the number, i.e. 1 now equals 0, 0 now equals 1. Allows us to highlight low sst values\n",
    "    return x\n"
   ]
  },
  {
   "cell_type": "code",
   "execution_count": 3,
   "id": "6031d65a-0d27-4354-b431-2626754d0e60",
   "metadata": {},
   "outputs": [],
   "source": [
    "# Define projection and mapping stuff - same for both SST and CDOM\n",
    "extent=[-94, 27.5, -88, 30.5]\n",
    "res = '10m'\n",
    "my_area = create_area_def('my_area', {'proj': 'lcc', 'lon_0': -91., 'lat_0': 29.5, 'lat_1': 29.5, 'lat_2': 29.5},\n",
    "                          width=1500, height=750,\n",
    "                          area_extent=extent, units='degrees')"
   ]
  },
  {
   "cell_type": "code",
   "execution_count": 4,
   "id": "b1d9af9a-7d8b-420b-af4d-e81c915ba6f4",
   "metadata": {},
   "outputs": [],
   "source": [
    "# Load modis images to calculate CDOM\n",
    "base = \"/home/luka/tinker/NASA/NasaInternship/Data_Downloads/24-10-31:24-11-07/*.hdf\"\n",
    "dayfiles = glob(base)\n",
    "modis = Scene(dayfiles, reader='modis_l1b')\n",
    "modis.load(['8','4','13lo', 'true_color'])\n",
    "\n",
    "# Resample MODIS images\n",
    "modis = modis.resample(my_area)"
   ]
  },
  {
   "cell_type": "code",
   "execution_count": 8,
   "id": "6a51a4c3-14b1-4176-ab5c-09f8d1817458",
   "metadata": {},
   "outputs": [],
   "source": [
    "# Calculate CDOM\n",
    "\n",
    "Rss412 = (modis['8'])\n",
    "Rss555 = (modis['4'])\n",
    "Rss667 = (modis['13lo'])\n",
    "\n",
    "B0 = 0.2487; B1 = 14.028; B2 = 4.085\n",
    "aCDOM412_a = (np.log((Rss412/Rss555 - B0)/ B2))/(-B1)\n",
    "aCDOM412_a = aCDOM412_a.compute()\n",
    "\n",
    "\n",
    "# Create the combo array to store sed CDOM in\n",
    "combo = deepcopy(modis['8'].drop_attrs())"
   ]
  },
  {
   "cell_type": "code",
   "execution_count": 9,
   "id": "935242d2-40df-441f-a52f-a25fcb6bde90",
   "metadata": {},
   "outputs": [],
   "source": [
    "# Load and resample sst geotiff\n",
    "tiff = glob('/home/luka/tinker/NASA/NasaInternship/Data_Downloads/24-10-31:24-11-07/*.TIFF')\n",
    "sst = Scene(tiff, reader='generic_image')\n",
    "sst.load(['image'])\n",
    "sst = sst.resample(my_area)"
   ]
  },
  {
   "cell_type": "code",
   "execution_count": 25,
   "id": "ee2ecb16-0b09-4740-8dfa-36dd4407c7e5",
   "metadata": {
    "scrolled": true
   },
   "outputs": [
    {
     "name": "stdout",
     "output_type": "stream",
     "text": [
      "(000,0063)"
     ]
    },
    {
     "ename": "KeyboardInterrupt",
     "evalue": "",
     "output_type": "error",
     "traceback": [
      "\u001b[0;31m---------------------------------------------------------------------------\u001b[0m",
      "\u001b[0;31mKeyboardInterrupt\u001b[0m                         Traceback (most recent call last)",
      "Cell \u001b[0;32mIn[25], line 8\u001b[0m\n\u001b[1;32m      6\u001b[0m \u001b[38;5;28;01mif\u001b[39;00m math\u001b[38;5;241m.\u001b[39misnan(cdomVal): \u001b[38;5;66;03m# if there is no CDOM value, set to 0\u001b[39;00m\n\u001b[1;32m      7\u001b[0m     cdomVal \u001b[38;5;241m=\u001b[39m \u001b[38;5;241m0\u001b[39m\n\u001b[0;32m----> 8\u001b[0m \u001b[43mcombo\u001b[49m\u001b[43m[\u001b[49m\u001b[43mx\u001b[49m\u001b[43m]\u001b[49m\u001b[43m[\u001b[49m\u001b[43my\u001b[49m\u001b[43m]\u001b[49m \u001b[38;5;241m=\u001b[39m (cdomVal\u001b[38;5;241m*\u001b[39msstVal) \u001b[38;5;66;03m# multiply the cdom value to the inverted sst value\u001b[39;00m\n\u001b[1;32m      9\u001b[0m \u001b[38;5;66;03m# Status stuff below - unimportant\u001b[39;00m\n\u001b[1;32m     10\u001b[0m a\u001b[38;5;241m+\u001b[39m\u001b[38;5;241m=\u001b[39m\u001b[38;5;241m1\u001b[39m\n",
      "File \u001b[0;32m~/miniforge3/envs/wizardry/lib/python3.13/site-packages/xarray/core/dataarray.py:922\u001b[0m, in \u001b[0;36mDataArray.__setitem__\u001b[0;34m(self, key, value)\u001b[0m\n\u001b[1;32m    917\u001b[0m \u001b[38;5;66;03m# DataArray key -> Variable key\u001b[39;00m\n\u001b[1;32m    918\u001b[0m key \u001b[38;5;241m=\u001b[39m {\n\u001b[1;32m    919\u001b[0m     k: v\u001b[38;5;241m.\u001b[39mvariable \u001b[38;5;28;01mif\u001b[39;00m \u001b[38;5;28misinstance\u001b[39m(v, DataArray) \u001b[38;5;28;01melse\u001b[39;00m v\n\u001b[1;32m    920\u001b[0m     \u001b[38;5;28;01mfor\u001b[39;00m k, v \u001b[38;5;129;01min\u001b[39;00m \u001b[38;5;28mself\u001b[39m\u001b[38;5;241m.\u001b[39m_item_key_to_dict(key)\u001b[38;5;241m.\u001b[39mitems()\n\u001b[1;32m    921\u001b[0m }\n\u001b[0;32m--> 922\u001b[0m \u001b[38;5;28;43mself\u001b[39;49m\u001b[38;5;241;43m.\u001b[39;49m\u001b[43mvariable\u001b[49m\u001b[43m[\u001b[49m\u001b[43mkey\u001b[49m\u001b[43m]\u001b[49m \u001b[38;5;241m=\u001b[39m value\n",
      "File \u001b[0;32m~/miniforge3/envs/wizardry/lib/python3.13/site-packages/xarray/core/variable.py:908\u001b[0m, in \u001b[0;36mVariable.__setitem__\u001b[0;34m(self, key, value)\u001b[0m\n\u001b[1;32m    905\u001b[0m     value \u001b[38;5;241m=\u001b[39m np\u001b[38;5;241m.\u001b[39mmoveaxis(value, new_order, \u001b[38;5;28mrange\u001b[39m(\u001b[38;5;28mlen\u001b[39m(new_order)))\n\u001b[1;32m    907\u001b[0m indexable \u001b[38;5;241m=\u001b[39m as_indexable(\u001b[38;5;28mself\u001b[39m\u001b[38;5;241m.\u001b[39m_data)\n\u001b[0;32m--> 908\u001b[0m \u001b[43mindexing\u001b[49m\u001b[38;5;241;43m.\u001b[39;49m\u001b[43mset_with_indexer\u001b[49m\u001b[43m(\u001b[49m\u001b[43mindexable\u001b[49m\u001b[43m,\u001b[49m\u001b[43m \u001b[49m\u001b[43mindex_tuple\u001b[49m\u001b[43m,\u001b[49m\u001b[43m \u001b[49m\u001b[43mvalue\u001b[49m\u001b[43m)\u001b[49m\n",
      "File \u001b[0;32m~/miniforge3/envs/wizardry/lib/python3.13/site-packages/xarray/core/indexing.py:1043\u001b[0m, in \u001b[0;36mset_with_indexer\u001b[0;34m(indexable, indexer, value)\u001b[0m\n\u001b[1;32m   1041\u001b[0m     indexable\u001b[38;5;241m.\u001b[39moindex[indexer] \u001b[38;5;241m=\u001b[39m value\n\u001b[1;32m   1042\u001b[0m \u001b[38;5;28;01melse\u001b[39;00m:\n\u001b[0;32m-> 1043\u001b[0m     \u001b[43mindexable\u001b[49m\u001b[43m[\u001b[49m\u001b[43mindexer\u001b[49m\u001b[43m]\u001b[49m \u001b[38;5;241m=\u001b[39m value\n",
      "File \u001b[0;32m~/miniforge3/envs/wizardry/lib/python3.13/site-packages/xarray/core/indexing.py:1552\u001b[0m, in \u001b[0;36mNumpyIndexingAdapter.__setitem__\u001b[0;34m(self, indexer, value)\u001b[0m\n\u001b[1;32m   1548\u001b[0m \u001b[38;5;66;03m# We want 0d slices rather than scalars. This is achieved by\u001b[39;00m\n\u001b[1;32m   1549\u001b[0m \u001b[38;5;66;03m# appending an ellipsis (see\u001b[39;00m\n\u001b[1;32m   1550\u001b[0m \u001b[38;5;66;03m# https://numpy.org/doc/stable/reference/arrays.indexing.html#detailed-notes).\u001b[39;00m\n\u001b[1;32m   1551\u001b[0m key \u001b[38;5;241m=\u001b[39m indexer\u001b[38;5;241m.\u001b[39mtuple \u001b[38;5;241m+\u001b[39m (\u001b[38;5;28mEllipsis\u001b[39m,)\n\u001b[0;32m-> 1552\u001b[0m \u001b[38;5;28;43mself\u001b[39;49m\u001b[38;5;241;43m.\u001b[39;49m\u001b[43m_safe_setitem\u001b[49m\u001b[43m(\u001b[49m\u001b[43marray\u001b[49m\u001b[43m,\u001b[49m\u001b[43m \u001b[49m\u001b[43mkey\u001b[49m\u001b[43m,\u001b[49m\u001b[43m \u001b[49m\u001b[43mvalue\u001b[49m\u001b[43m)\u001b[49m\n",
      "File \u001b[0;32m~/miniforge3/envs/wizardry/lib/python3.13/site-packages/xarray/core/indexing.py:1526\u001b[0m, in \u001b[0;36mNumpyIndexingAdapter._safe_setitem\u001b[0;34m(self, array, key, value)\u001b[0m\n\u001b[1;32m   1524\u001b[0m \u001b[38;5;28;01mdef\u001b[39;00m \u001b[38;5;21m_safe_setitem\u001b[39m(\u001b[38;5;28mself\u001b[39m, array, key: \u001b[38;5;28mtuple\u001b[39m[Any, \u001b[38;5;241m.\u001b[39m\u001b[38;5;241m.\u001b[39m\u001b[38;5;241m.\u001b[39m], value: Any) \u001b[38;5;241m-\u001b[39m\u001b[38;5;241m>\u001b[39m \u001b[38;5;28;01mNone\u001b[39;00m:\n\u001b[1;32m   1525\u001b[0m     \u001b[38;5;28;01mtry\u001b[39;00m:\n\u001b[0;32m-> 1526\u001b[0m         \u001b[43marray\u001b[49m\u001b[43m[\u001b[49m\u001b[43mkey\u001b[49m\u001b[43m]\u001b[49m \u001b[38;5;241m=\u001b[39m value\n\u001b[1;32m   1527\u001b[0m     \u001b[38;5;28;01mexcept\u001b[39;00m \u001b[38;5;167;01mValueError\u001b[39;00m \u001b[38;5;28;01mas\u001b[39;00m exc:\n\u001b[1;32m   1528\u001b[0m         \u001b[38;5;66;03m# More informative exception if read-only view\u001b[39;00m\n\u001b[1;32m   1529\u001b[0m         \u001b[38;5;28;01mif\u001b[39;00m \u001b[38;5;129;01mnot\u001b[39;00m array\u001b[38;5;241m.\u001b[39mflags\u001b[38;5;241m.\u001b[39mwriteable \u001b[38;5;129;01mand\u001b[39;00m \u001b[38;5;129;01mnot\u001b[39;00m array\u001b[38;5;241m.\u001b[39mflags\u001b[38;5;241m.\u001b[39mowndata:\n",
      "File \u001b[0;32m~/miniforge3/envs/wizardry/lib/python3.13/site-packages/dask/array/core.py:1709\u001b[0m, in \u001b[0;36mArray.__array__\u001b[0;34m(self, dtype, **kwargs)\u001b[0m\n\u001b[1;32m   1708\u001b[0m \u001b[38;5;28;01mdef\u001b[39;00m \u001b[38;5;21m__array__\u001b[39m(\u001b[38;5;28mself\u001b[39m, dtype\u001b[38;5;241m=\u001b[39m\u001b[38;5;28;01mNone\u001b[39;00m, \u001b[38;5;241m*\u001b[39m\u001b[38;5;241m*\u001b[39mkwargs):\n\u001b[0;32m-> 1709\u001b[0m     x \u001b[38;5;241m=\u001b[39m \u001b[38;5;28;43mself\u001b[39;49m\u001b[38;5;241;43m.\u001b[39;49m\u001b[43mcompute\u001b[49m\u001b[43m(\u001b[49m\u001b[43m)\u001b[49m\n\u001b[1;32m   1710\u001b[0m     \u001b[38;5;28;01mif\u001b[39;00m dtype \u001b[38;5;129;01mand\u001b[39;00m x\u001b[38;5;241m.\u001b[39mdtype \u001b[38;5;241m!=\u001b[39m dtype:\n\u001b[1;32m   1711\u001b[0m         x \u001b[38;5;241m=\u001b[39m x\u001b[38;5;241m.\u001b[39mastype(dtype)\n",
      "File \u001b[0;32m~/miniforge3/envs/wizardry/lib/python3.13/site-packages/dask/base.py:372\u001b[0m, in \u001b[0;36mDaskMethodsMixin.compute\u001b[0;34m(self, **kwargs)\u001b[0m\n\u001b[1;32m    348\u001b[0m \u001b[38;5;28;01mdef\u001b[39;00m \u001b[38;5;21mcompute\u001b[39m(\u001b[38;5;28mself\u001b[39m, \u001b[38;5;241m*\u001b[39m\u001b[38;5;241m*\u001b[39mkwargs):\n\u001b[1;32m    349\u001b[0m \u001b[38;5;250m    \u001b[39m\u001b[38;5;124;03m\"\"\"Compute this dask collection\u001b[39;00m\n\u001b[1;32m    350\u001b[0m \n\u001b[1;32m    351\u001b[0m \u001b[38;5;124;03m    This turns a lazy Dask collection into its in-memory equivalent.\u001b[39;00m\n\u001b[0;32m   (...)\u001b[0m\n\u001b[1;32m    370\u001b[0m \u001b[38;5;124;03m    dask.compute\u001b[39;00m\n\u001b[1;32m    371\u001b[0m \u001b[38;5;124;03m    \"\"\"\u001b[39;00m\n\u001b[0;32m--> 372\u001b[0m     (result,) \u001b[38;5;241m=\u001b[39m \u001b[43mcompute\u001b[49m\u001b[43m(\u001b[49m\u001b[38;5;28;43mself\u001b[39;49m\u001b[43m,\u001b[49m\u001b[43m \u001b[49m\u001b[43mtraverse\u001b[49m\u001b[38;5;241;43m=\u001b[39;49m\u001b[38;5;28;43;01mFalse\u001b[39;49;00m\u001b[43m,\u001b[49m\u001b[43m \u001b[49m\u001b[38;5;241;43m*\u001b[39;49m\u001b[38;5;241;43m*\u001b[39;49m\u001b[43mkwargs\u001b[49m\u001b[43m)\u001b[49m\n\u001b[1;32m    373\u001b[0m     \u001b[38;5;28;01mreturn\u001b[39;00m result\n",
      "File \u001b[0;32m~/miniforge3/envs/wizardry/lib/python3.13/site-packages/dask/base.py:660\u001b[0m, in \u001b[0;36mcompute\u001b[0;34m(traverse, optimize_graph, scheduler, get, *args, **kwargs)\u001b[0m\n\u001b[1;32m    657\u001b[0m     postcomputes\u001b[38;5;241m.\u001b[39mappend(x\u001b[38;5;241m.\u001b[39m__dask_postcompute__())\n\u001b[1;32m    659\u001b[0m \u001b[38;5;28;01mwith\u001b[39;00m shorten_traceback():\n\u001b[0;32m--> 660\u001b[0m     results \u001b[38;5;241m=\u001b[39m \u001b[43mschedule\u001b[49m\u001b[43m(\u001b[49m\u001b[43mdsk\u001b[49m\u001b[43m,\u001b[49m\u001b[43m \u001b[49m\u001b[43mkeys\u001b[49m\u001b[43m,\u001b[49m\u001b[43m \u001b[49m\u001b[38;5;241;43m*\u001b[39;49m\u001b[38;5;241;43m*\u001b[39;49m\u001b[43mkwargs\u001b[49m\u001b[43m)\u001b[49m\n\u001b[1;32m    662\u001b[0m \u001b[38;5;28;01mreturn\u001b[39;00m repack([f(r, \u001b[38;5;241m*\u001b[39ma) \u001b[38;5;28;01mfor\u001b[39;00m r, (f, a) \u001b[38;5;129;01min\u001b[39;00m \u001b[38;5;28mzip\u001b[39m(results, postcomputes)])\n",
      "File \u001b[0;32m~/miniforge3/envs/wizardry/lib/python3.13/queue.py:202\u001b[0m, in \u001b[0;36mQueue.get\u001b[0;34m(self, block, timeout)\u001b[0m\n\u001b[1;32m    200\u001b[0m \u001b[38;5;28;01melif\u001b[39;00m timeout \u001b[38;5;129;01mis\u001b[39;00m \u001b[38;5;28;01mNone\u001b[39;00m:\n\u001b[1;32m    201\u001b[0m     \u001b[38;5;28;01mwhile\u001b[39;00m \u001b[38;5;129;01mnot\u001b[39;00m \u001b[38;5;28mself\u001b[39m\u001b[38;5;241m.\u001b[39m_qsize():\n\u001b[0;32m--> 202\u001b[0m         \u001b[38;5;28;43mself\u001b[39;49m\u001b[38;5;241;43m.\u001b[39;49m\u001b[43mnot_empty\u001b[49m\u001b[38;5;241;43m.\u001b[39;49m\u001b[43mwait\u001b[49m\u001b[43m(\u001b[49m\u001b[43m)\u001b[49m\n\u001b[1;32m    203\u001b[0m         \u001b[38;5;28;01mif\u001b[39;00m \u001b[38;5;28mself\u001b[39m\u001b[38;5;241m.\u001b[39mis_shutdown \u001b[38;5;129;01mand\u001b[39;00m \u001b[38;5;129;01mnot\u001b[39;00m \u001b[38;5;28mself\u001b[39m\u001b[38;5;241m.\u001b[39m_qsize():\n\u001b[1;32m    204\u001b[0m             \u001b[38;5;28;01mraise\u001b[39;00m ShutDown\n",
      "File \u001b[0;32m~/miniforge3/envs/wizardry/lib/python3.13/threading.py:359\u001b[0m, in \u001b[0;36mCondition.wait\u001b[0;34m(self, timeout)\u001b[0m\n\u001b[1;32m    357\u001b[0m \u001b[38;5;28;01mtry\u001b[39;00m:    \u001b[38;5;66;03m# restore state no matter what (e.g., KeyboardInterrupt)\u001b[39;00m\n\u001b[1;32m    358\u001b[0m     \u001b[38;5;28;01mif\u001b[39;00m timeout \u001b[38;5;129;01mis\u001b[39;00m \u001b[38;5;28;01mNone\u001b[39;00m:\n\u001b[0;32m--> 359\u001b[0m         \u001b[43mwaiter\u001b[49m\u001b[38;5;241;43m.\u001b[39;49m\u001b[43macquire\u001b[49m\u001b[43m(\u001b[49m\u001b[43m)\u001b[49m\n\u001b[1;32m    360\u001b[0m         gotit \u001b[38;5;241m=\u001b[39m \u001b[38;5;28;01mTrue\u001b[39;00m\n\u001b[1;32m    361\u001b[0m     \u001b[38;5;28;01melse\u001b[39;00m:\n",
      "\u001b[0;31mKeyboardInterrupt\u001b[0m: "
     ]
    }
   ],
   "source": [
    "a = 0\n",
    "combo.load() # load a sacrifical dataset into memory, to overwrite with the Sed. CDOM index values\n",
    "for x in range(750): # loop through each of the rows in the datasets\n",
    "    for y in range(1500): # loop through each of the columns in the dataset\n",
    "        sstVal = sstinvert(sst['image'][0][x][y]) # Pull the sst value for this specific coordinate, then invert it and store\n",
    "        cdomVal = float(aCDOM412_a[x][y]) # pull the cdom value for this specififc coordinate\n",
    "        if math.isnan(cdomVal): # if there is no CDOM value, set to 0\n",
    "            cdomVal = 0\n",
    "        combo[x][y] = (cdomVal*sstVal) # multiply the cdom value to the inverted sst value\n",
    "        # Status stuff below - unimportant\n",
    "        a+=1\n",
    "        if a == 100:\n",
    "            if len((str(x))) == 1:\n",
    "                px = \"00\" + str(x)\n",
    "            elif len((str(x))) == 2:\n",
    "                px = \"0\" + str(x)\n",
    "            else:\n",
    "                px = str(x)\n",
    "            if len(str(y)) == 1:\n",
    "                py = \"000\" + str(y)\n",
    "            elif len(str(y)) == 2:\n",
    "                py = \"00\" + str(y)\n",
    "            elif len(str(y)) == 3:\n",
    "                py = \"0\" + str(y)\n",
    "            else:\n",
    "                py = str(y)\n",
    "            prn = \"(\" + px + \",\" + py + \")\"\n",
    "            print(prn, end='\\r')\n",
    "            a = 0"
   ]
  },
  {
   "cell_type": "code",
   "execution_count": null,
   "id": "3fbc33d9-d29f-4150-9249-02271ef401cc",
   "metadata": {},
   "outputs": [],
   "source": [
    "manualminmax = True\n",
    "if manualminmax:\n",
    "    ## For Black Background\n",
    "    #cmin = .08\n",
    "    #cmax = .24\n",
    "    \n",
    "    ## For Full Colorscale\n",
    "    cmin = 0\n",
    "    cmax = .24\n",
    "else:\n",
    "    cmin = float(combo.max())\n",
    "    cmax = float(combo.min())\n",
    "\n",
    "fig =  plt.figure(dpi=4000)\n",
    "\n",
    "ax = plt.axes(projection=crs)\n",
    "ax.coastlines(res)\n",
    "plt.pcolormesh(lons, lats, combo, transform=ccrs.PlateCarree(),\n",
    "              vmin=cmin, vmax=cmax, cmap='inferno')\n",
    "ax.add_feature(cfeature.NaturalEarthFeature(category='physical', \n",
    "                                            name='land', facecolor='grey',\n",
    "                                            scale=res))\n",
    "\n",
    "plt.colorbar(shrink = .6, label = \"Sed. CDOM Index\")\n",
    "plt.title('Oct 31-Nov 07 - Sed. CDOM (Full Range)') \n",
    "fig.savefig('/home/luka/tinker/NASA/NasaInternship/outputs/Oct 31-Nov 07 SST & CDOM (Full Range) .png')"
   ]
  },
  {
   "cell_type": "code",
   "execution_count": null,
   "id": "9c29097a-cd01-4293-af6b-1f97d62a993a",
   "metadata": {},
   "outputs": [],
   "source": [
    "cmin = .08\n",
    "cmax = .24\n",
    "\n",
    "fig =  plt.figure(dpi=4000)\n",
    "\n",
    "ax = plt.axes(projection=crs)\n",
    "ax.coastlines(res)\n",
    "plt.pcolormesh(lons, lats, combo, transform=ccrs.PlateCarree(),\n",
    "              vmin=cmin, vmax=cmax, cmap='inferno')\n",
    "ax.add_feature(cfeature.NaturalEarthFeature(category='physical', \n",
    "                                            name='land', facecolor='grey',\n",
    "                                            scale=res))\n",
    "\n",
    "plt.colorbar(shrink = .6, label = \"Sed. CDOM Index\")\n",
    "plt.title('Oct 31-Nov 07 - Sed. CDOM (High Min)') \n",
    "fig.savefig('/home/luka/tinker/NASA/NasaInternship/outputs/Oct 31-Nov 07 SST & CDOM (High Min) .png')"
   ]
  }
 ],
 "metadata": {
  "kernelspec": {
   "display_name": "Python 3 (ipykernel)",
   "language": "python",
   "name": "python3"
  },
  "language_info": {
   "codemirror_mode": {
    "name": "ipython",
    "version": 3
   },
   "file_extension": ".py",
   "mimetype": "text/x-python",
   "name": "python",
   "nbconvert_exporter": "python",
   "pygments_lexer": "ipython3",
   "version": "3.13.1"
  }
 },
 "nbformat": 4,
 "nbformat_minor": 5
}
